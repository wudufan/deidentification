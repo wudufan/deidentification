{
 "cells": [
  {
   "cell_type": "code",
   "execution_count": 2,
   "metadata": {},
   "outputs": [],
   "source": [
    "# encrypt all the folder names and contents in dicom images"
   ]
  },
  {
   "cell_type": "code",
   "execution_count": 17,
   "metadata": {},
   "outputs": [],
   "source": [
    "import glob\n",
    "import os\n",
    "import encrpytion\n",
    "import pandas as pd\n",
    "import sys\n",
    "from pathlib import Path\n",
    "from datetime import datetime"
   ]
  },
  {
   "cell_type": "code",
   "execution_count": 22,
   "metadata": {},
   "outputs": [
    {
     "name": "stdout",
     "output_type": "stream",
     "text": [
      "input_file = /home/dufan.wu/mnt/edw/edw/hotline/problem_list.csv\n",
      "output_dir = /home/dufan.wu/edw_2/hotline/\n",
      "overwrite = 1\n"
     ]
    }
   ],
   "source": [
    "import argparse\n",
    "parser = argparse.ArgumentParser()\n",
    "parser.add_argument('--input_file', type=str, default='/home/dufan.wu/mnt/edw/edw/hotline/problem_list.csv')\n",
    "parser.add_argument('--output_dir', type=str, default='/home/dufan.wu/edw_2/hotline/')\n",
    "parser.add_argument('--overwrite', type=int, default=1)\n",
    "\n",
    "if sys.argv[0] != 'edw_encryption.py':\n",
    "    args = parser.parse_args([])\n",
    "else:\n",
    "    args = parser.parse_args()\n",
    "\n",
    "for k in args.__dict__:\n",
    "    print (k, '=', args.__dict__[k])"
   ]
  },
  {
   "cell_type": "code",
   "execution_count": 23,
   "metadata": {},
   "outputs": [],
   "source": [
    "encryptor = encrpytion.Simple_encryptor('covid')"
   ]
  },
  {
   "cell_type": "code",
   "execution_count": 24,
   "metadata": {},
   "outputs": [],
   "source": [
    "if not os.path.exists(args.output_dir):\n",
    "    os.makedirs(args.output_dir)"
   ]
  },
  {
   "cell_type": "code",
   "execution_count": 25,
   "metadata": {},
   "outputs": [
    {
     "name": "stdout",
     "output_type": "stream",
     "text": [
      "1274012\n",
      "50000, 100000, 150000, 200000, 250000, 300000, 350000, 400000, 450000, 500000, 550000, 600000, 650000, 700000, 750000, 800000, 850000, 900000, 950000, 1000000, 1050000, 1100000, 1150000, 1200000, 1250000, "
     ]
    }
   ],
   "source": [
    "df = pd.read_csv(args.input_file)\n",
    "string_list = []\n",
    "if 'PatientID' not in df:\n",
    "    df['PatientID'] = df['UniquePatientIdentifier']\n",
    "    df = df.drop(columns = 'UniquePatientIdentifier')\n",
    "print (len(df.PatientID))\n",
    "for k, s in enumerate(list(df.PatientID)):\n",
    "    if (k+1) % 50000 == 0:\n",
    "        print (k+1, end=', ', flush=True)\n",
    "    string_list.append(encryptor.Encrypt_string(s))\n",
    "df['PatientID'] = string_list\n",
    "df.to_csv(os.path.join(args.output_dir, os.path.basename(args.input_file)), index=False)"
   ]
  },
  {
   "cell_type": "code",
   "execution_count": null,
   "metadata": {},
   "outputs": [],
   "source": []
  },
  {
   "cell_type": "code",
   "execution_count": null,
   "metadata": {},
   "outputs": [],
   "source": []
  }
 ],
 "metadata": {
  "kernelspec": {
   "display_name": "Python 3",
   "language": "python",
   "name": "python3"
  },
  "language_info": {
   "codemirror_mode": {
    "name": "ipython",
    "version": 3
   },
   "file_extension": ".py",
   "mimetype": "text/x-python",
   "name": "python",
   "nbconvert_exporter": "python",
   "pygments_lexer": "ipython3",
   "version": "3.7.6"
  }
 },
 "nbformat": 4,
 "nbformat_minor": 4
}
