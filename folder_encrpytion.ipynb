{
 "cells": [
  {
   "cell_type": "code",
   "execution_count": 1,
   "metadata": {},
   "outputs": [],
   "source": [
    "# encrypt the MRNs in the filenames of intermediate results (npy, png, etc)"
   ]
  },
  {
   "cell_type": "code",
   "execution_count": 9,
   "metadata": {},
   "outputs": [],
   "source": [
    "import glob\n",
    "import os\n",
    "import encrpytion\n",
    "import shutil\n",
    "import sys\n",
    "from pathlib import Path"
   ]
  },
  {
   "cell_type": "code",
   "execution_count": 10,
   "metadata": {},
   "outputs": [
    {
     "name": "stdout",
     "output_type": "stream",
     "text": [
      "input_dir = /raid/COVID-19/CT-severity/processed/mgh-pos/for_review/png/\n",
      "output_dir = /raid/COVID-19/CT-severity/processed/mgh-pos/anonymized/png/\n"
     ]
    }
   ],
   "source": [
    "import argparse\n",
    "parser = argparse.ArgumentParser()\n",
    "parser.add_argument('--input_dir', type=str, default='/home/dwu/data/DZH_DATA/check/')\n",
    "parser.add_argument('--output_dir', type=str, default='/home/dwu/data/Aneurysm/check/')\n",
    "\n",
    "if sys.argv[0] != 'Filename_encryption.py':\n",
    "    args = parser.parse_args(['--input_dir', '/raid/COVID-19/CT-severity/processed/mgh-pos/for_review/png/', \n",
    "                              '--output_dir', '/raid/COVID-19/CT-severity/processed/mgh-pos/anonymized/png/'])\n",
    "else:\n",
    "    args = parser.parse_args()\n",
    "\n",
    "for k in args.__dict__:\n",
    "    print (k, '=', args.__dict__[k])"
   ]
  },
  {
   "cell_type": "code",
   "execution_count": 11,
   "metadata": {},
   "outputs": [],
   "source": [
    "encrpytor = encrpytion.Simple_encryptor('covid')"
   ]
  },
  {
   "cell_type": "code",
   "execution_count": 12,
   "metadata": {},
   "outputs": [],
   "source": [
    "if not os.path.exists(args.output_dir):\n",
    "    os.makedirs(args.output_dir)"
   ]
  },
  {
   "cell_type": "code",
   "execution_count": 13,
   "metadata": {},
   "outputs": [
    {
     "name": "stdout",
     "output_type": "stream",
     "text": [
      "23\n",
      "0,1,2,3,4,5,6,7,8,9,10,11,12,13,14,15,16,17,18,19,20,21,22,"
     ]
    }
   ],
   "source": [
    "# split by '_' and encrypt the first part\n",
    "filenames = glob.glob(os.path.join(args.input_dir, '*'))\n",
    "print (len(filenames))\n",
    "for i, filename in enumerate(filenames):\n",
    "    print (i, end=',', flush=True)\n",
    "    \n",
    "    name = os.path.basename(filename)\n",
    "    tokens = name.split('_')\n",
    "    mrn_enc = encrpytor.Encrypt_string(tokens[0])\n",
    "    acc_enc = encrpytor.Encrypt_string(tokens[1])\n",
    "    dstname = os.path.join(args.output_dir, '_'.join([mrn_enc, acc_enc] + tokens[2:]))\n",
    "    \n",
    "    shutil.copytree(filename, dstname)"
   ]
  },
  {
   "cell_type": "code",
   "execution_count": 14,
   "metadata": {},
   "outputs": [
    {
     "name": "stdout",
     "output_type": "stream",
     "text": [
      "02619963_E15389065_3 02619963_E15389065_3\n",
      "0631027_E15457491_4 0631027_E15457491_4\n",
      "07079569_E15489220_9 07079569_E15489220_9\n",
      "08077661_E15479449_9 08077661_E15479449_9\n",
      "0795617_E14877702_302 0795617_E14877702_302\n",
      "2865224_E15483651_3 2865224_E15483651_3\n",
      "2530349_E15470724_3 2530349_E15470724_3\n",
      "33753526_E15417020_8 33753526_E15417020_8\n",
      "10932430_E15476328_3 10932430_E15476328_3\n",
      "11316840_E15470546_3 11316840_E15470546_3\n",
      "11390592_E15476611_3 11390592_E15476611_3\n",
      "4041884_E15430678_4 4041884_E15430678_4\n",
      "41940826_E15490349_5 41940826_E15490349_5\n",
      "6026796_E15477693_14 6026796_E15477693_14\n",
      "2023465_E15444202_3 2023465_E15444202_3\n",
      "2166297_E14863542_302 2166297_E14863542_302\n",
      "2212646_E13737509_2 2212646_E13737509_2\n",
      "2219908_E13883991_2 2219908_E13883991_2\n",
      "2396963_E15454805_4 2396963_E15454805_4\n",
      "2444333_E13649450_302 2444333_E13649450_302\n",
      "1795989_E15483371_2 1795989_E15483371_2\n",
      "1913996_E15410556_2 1913996_E15410556_2\n",
      "11390854_E15482170_2 11390854_E15482170_2\n"
     ]
    }
   ],
   "source": [
    "# decrpyt\n",
    "original_filenames = glob.glob(os.path.join(args.input_dir, '*'))\n",
    "filenames = glob.glob(os.path.join(args.output_dir, '*'))\n",
    "for i, filename in enumerate(filenames):\n",
    "    name = os.path.basename(filename)\n",
    "    tokens = name.split('_')\n",
    "    mrn_dec = encrpytor.Decrypt_string(tokens[0])\n",
    "    acc_dec = encrpytor.Decrypt_string(tokens[1])\n",
    "    \n",
    "    dstname = os.path.join(args.output_dir, '_'.join([mrn_dec, acc_dec] + tokens[2:]))\n",
    "    \n",
    "    print (os.path.basename(dstname), os.path.basename(original_filenames[i]))"
   ]
  },
  {
   "cell_type": "code",
   "execution_count": null,
   "metadata": {},
   "outputs": [],
   "source": []
  }
 ],
 "metadata": {
  "kernelspec": {
   "display_name": "Python 3",
   "language": "python",
   "name": "python3"
  },
  "language_info": {
   "codemirror_mode": {
    "name": "ipython",
    "version": 3
   },
   "file_extension": ".py",
   "mimetype": "text/x-python",
   "name": "python",
   "nbconvert_exporter": "python",
   "pygments_lexer": "ipython3",
   "version": "3.7.7"
  }
 },
 "nbformat": 4,
 "nbformat_minor": 4
}
