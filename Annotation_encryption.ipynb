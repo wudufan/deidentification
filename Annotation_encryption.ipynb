{
 "cells": [
  {
   "cell_type": "code",
   "execution_count": 35,
   "metadata": {},
   "outputs": [],
   "source": [
    "import pandas as pd\n",
    "import encrpytion\n",
    "import os\n",
    "import numpy as np"
   ]
  },
  {
   "cell_type": "code",
   "execution_count": 36,
   "metadata": {},
   "outputs": [],
   "source": [
    "encryptor = encrpytion.Simple_encryptor('aneurysm')"
   ]
  },
  {
   "cell_type": "code",
   "execution_count": 28,
   "metadata": {},
   "outputs": [],
   "source": [
    "df = pd.read_csv('/home/dwu/data/DZH_DATA/2018/Aneurysm/mrns.csv', dtype=str)\n",
    "dfs = []\n",
    "for col in df:\n",
    "    mrns = list(df[col].dropna())\n",
    "    mrns = [encryptor.Encrypt_filename(s) for s in mrns]\n",
    "    dfs.append(pd.DataFrame({col: mrns}))\n",
    "df_enc = pd.concat(dfs, axis=1, ignore_index=True)\n",
    "df_enc.to_csv('/home/dwu/data/DZH_DATA/2018/Aneurysm/mrns_enc.csv', index=False)"
   ]
  },
  {
   "cell_type": "code",
   "execution_count": 29,
   "metadata": {},
   "outputs": [],
   "source": [
    "df = pd.read_csv('/home/dwu/data/DZH_DATA/Aneurysms 9.19.19/mrn_acc.csv', dtype=str)\n",
    "dfs = []\n",
    "for col in df:\n",
    "    mrns = list(df[col].dropna())\n",
    "    mrns = [encryptor.Encrypt_filename(s) for s in mrns]\n",
    "    dfs.append(pd.DataFrame({col: mrns}))\n",
    "df_enc = pd.concat(dfs, axis=1, ignore_index=True)\n",
    "df_enc.to_csv('/home/dwu/data/DZH_DATA/Aneurysms 9.19.19/mrn_acc_enc.csv', index=False)"
   ]
  },
  {
   "cell_type": "code",
   "execution_count": 42,
   "metadata": {},
   "outputs": [],
   "source": [
    "df = pd.read_csv('/home/dwu/AneurysmDetection/RPN_3D_FP_Reduction/clean/manifest.csv', dtype=str)\n",
    "mrn_enc = [encryptor.Encrypt_filename(s) for s in list(df['MRN'])]\n",
    "df['MRN'] = mrn_enc\n",
    "df.to_csv('/home/dwu/AneurysmDetection/RPN_3D_FP_Reduction/clean/manifest_enc.csv', index=False)"
   ]
  },
  {
   "cell_type": "code",
   "execution_count": null,
   "metadata": {},
   "outputs": [],
   "source": []
  }
 ],
 "metadata": {
  "kernelspec": {
   "display_name": "Python 3",
   "language": "python",
   "name": "python3"
  },
  "language_info": {
   "codemirror_mode": {
    "name": "ipython",
    "version": 3
   },
   "file_extension": ".py",
   "mimetype": "text/x-python",
   "name": "python",
   "nbconvert_exporter": "python",
   "pygments_lexer": "ipython3",
   "version": "3.6.9"
  },
  "varInspector": {
   "cols": {
    "lenName": 16,
    "lenType": 16,
    "lenVar": 40
   },
   "kernels_config": {
    "python": {
     "delete_cmd_postfix": "",
     "delete_cmd_prefix": "del ",
     "library": "var_list.py",
     "varRefreshCmd": "print(var_dic_list())"
    },
    "r": {
     "delete_cmd_postfix": ") ",
     "delete_cmd_prefix": "rm(",
     "library": "var_list.r",
     "varRefreshCmd": "cat(var_dic_list()) "
    }
   },
   "types_to_exclude": [
    "module",
    "function",
    "builtin_function_or_method",
    "instance",
    "_Feature"
   ],
   "window_display": false
  }
 },
 "nbformat": 4,
 "nbformat_minor": 4
}
