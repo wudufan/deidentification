{
 "cells": [
  {
   "cell_type": "code",
   "execution_count": 1,
   "metadata": {},
   "outputs": [],
   "source": [
    "# encrypt all the folder names and contents in dicom images"
   ]
  },
  {
   "cell_type": "code",
   "execution_count": 30,
   "metadata": {},
   "outputs": [],
   "source": [
    "import glob\n",
    "import os\n",
    "import encrpytion\n",
    "import pydicom\n",
    "import sys\n",
    "from pathlib import Path"
   ]
  },
  {
   "cell_type": "code",
   "execution_count": 42,
   "metadata": {},
   "outputs": [
    {
     "name": "stdout",
     "output_type": "stream",
     "text": [
      "input_dir = /home/dwu/data/DZH_DATA/2018/Aneurysm/Controls_SAH+/\n",
      "output_dir = /home/dwu/data/Aneurysm/2018/Controls_SAH+/\n",
      "keep_relative_path = 0\n",
      "overwrite = 0\n"
     ]
    }
   ],
   "source": [
    "import argparse\n",
    "parser = argparse.ArgumentParser()\n",
    "parser.add_argument('--input_dir', type=str, default='/home/dwu/data/DZH_DATA/2018/Aneurysm/Controls_SAH+/')\n",
    "parser.add_argument('--output_dir', type=str, default='/home/dwu/data/Aneurysm/2018/Controls_SAH+/')\n",
    "parser.add_argument('--keep_relative_path', type=int, default=0)\n",
    "parser.add_argument('--overwrite', type=int, default=1)\n",
    "\n",
    "if sys.argv[0] != 'Dicom_encryption.py':\n",
    "    args = parser.parse_args(['--keep_relative_path', '0', \n",
    "                              '--overwrite', '0'])\n",
    "else:\n",
    "    args = parser.parse_args()\n",
    "\n",
    "for k in args.__dict__:\n",
    "    print (k, '=', args.__dict__[k])"
   ]
  },
  {
   "cell_type": "code",
   "execution_count": 43,
   "metadata": {},
   "outputs": [],
   "source": [
    "encrpytor = encrpytion.Simple_encryptor('aneurysm')"
   ]
  },
  {
   "cell_type": "code",
   "execution_count": 44,
   "metadata": {},
   "outputs": [],
   "source": [
    "if not os.path.exists(args.output_dir):\n",
    "    os.makedirs(args.output_dir)"
   ]
  },
  {
   "cell_type": "code",
   "execution_count": 45,
   "metadata": {},
   "outputs": [
    {
     "name": "stdout",
     "output_type": "stream",
     "text": [
      "231\n",
      "0,1,2,3,4,5,6,7,8,9,10,11,12,13,14,15,16,17,18,19,20,21,22,23,24,25,26,27,28,29,30,31,32,33,34,35,36,37,38,39,40,41,42,43,44,45,46,47,48,49,50,51,52,53,54,55,56,57,58,59,60,61,62,63,64,65,66,67,68,69,70,71,72,73,74,75,76,77,78,79,80,81,82,83,84,85,86,87,88,89,90,91,92,93,94,95,96,97,98,99,100,101,102,103,104,105,106,107,108,109,110,111,112,113,114,115,116,117,118,119,120,121,122,123,124,125,126,127,128,129,130,131,132,133,134,135,136,137,138,139,140,141,142,143,144,145,146,147,148,149,150,151,152,153,154,155,156,157,158,159,160,161,162,163,164,165,166,167,168,169,170,171,172,173,174,175,176,177,178,179,180,181,182,183,184,185,186,187,188,189,190,191,192,193,194,195,196,197,198,199,200,201,202,203,204,205,206,207,208,209,210,211,212,213,214,215,216,217,218,219,220,221,222,223,224,225,226,227,228,229,230,"
     ]
    }
   ],
   "source": [
    "# encrpyt the dicoms and put into folder according to MRN_ACC\n",
    "mrns = glob.glob(os.path.join(args.input_dir, '*'))\n",
    "print (len(mrns))\n",
    "for k, mrn in enumerate(mrns):\n",
    "    print (k, end=',', flush=True)\n",
    "    filenames = Path(mrn).rglob('*.dcm')\n",
    "    for i, filename in enumerate(filenames):\n",
    "        dcm = pydicom.dcmread(str(filename), force=True)\n",
    "        dcm = encrpytor.Encrypt_dicom(dcm)\n",
    "        \n",
    "        if not args.keep_relative_path:\n",
    "            dst_folder = os.path.join(args.output_dir, encrpytor.Get_folder_name(dcm))\n",
    "        else:\n",
    "            dst_folder = os.path.dirname(str(filename)).replace(args.input_dir, args.output_dir)\n",
    "        if not os.path.exists(dst_folder):\n",
    "            os.makedirs(dst_folder)\n",
    "        if i == 0 and os.path.exists(dst_folder) and not args.overwrite:\n",
    "            break\n",
    "        \n",
    "        dcm.save_as(os.path.join(dst_folder, os.path.basename(str(filename))))"
   ]
  },
  {
   "cell_type": "code",
   "execution_count": null,
   "metadata": {},
   "outputs": [],
   "source": []
  }
 ],
 "metadata": {
  "kernelspec": {
   "display_name": "Python 3",
   "language": "python",
   "name": "python3"
  },
  "language_info": {
   "codemirror_mode": {
    "name": "ipython",
    "version": 3
   },
   "file_extension": ".py",
   "mimetype": "text/x-python",
   "name": "python",
   "nbconvert_exporter": "python",
   "pygments_lexer": "ipython3",
   "version": "3.6.9"
  },
  "varInspector": {
   "cols": {
    "lenName": 16,
    "lenType": 16,
    "lenVar": 40
   },
   "kernels_config": {
    "python": {
     "delete_cmd_postfix": "",
     "delete_cmd_prefix": "del ",
     "library": "var_list.py",
     "varRefreshCmd": "print(var_dic_list())"
    },
    "r": {
     "delete_cmd_postfix": ") ",
     "delete_cmd_prefix": "rm(",
     "library": "var_list.r",
     "varRefreshCmd": "cat(var_dic_list()) "
    }
   },
   "types_to_exclude": [
    "module",
    "function",
    "builtin_function_or_method",
    "instance",
    "_Feature"
   ],
   "window_display": false
  }
 },
 "nbformat": 4,
 "nbformat_minor": 4
}
