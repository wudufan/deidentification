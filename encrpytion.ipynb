{
 "cells": [
  {
   "cell_type": "code",
   "execution_count": 5,
   "metadata": {},
   "outputs": [],
   "source": [
    "import glob\n",
    "import os\n",
    "import numpy as np\n",
    "import pandas as pd\n",
    "import pydicom"
   ]
  },
  {
   "cell_type": "code",
   "execution_count": 6,
   "metadata": {},
   "outputs": [],
   "source": [
    "class Simple_encryptor:\n",
    "    def __init__(self, filename):\n",
    "        self.reorder = pd.read_csv(filename+'_reorder.csv').to_numpy()\n",
    "        self.mapping_string = pd.read_csv(filename+'_mapping_string.csv').to_numpy()\n",
    "        self.mapping_file = pd.read_csv(filename+'_mapping_filename.csv').to_numpy()\n",
    "        \n",
    "        # convert the reorder contents to int\n",
    "        for col in range(1,3):\n",
    "            for row in range(self.reorder.shape[0]):\n",
    "                self.reorder[row][col] = np.array([int(k) for k in self.reorder[row][col].split(',')])\n",
    "    \n",
    "        self.dicom_erase_field = ['ReferringPhysicianName', \n",
    "                                  'PerformingPhysicianName', \n",
    "                                  'NameOfPhysiciansReadingStudy', \n",
    "                                  'OperatorsName', \n",
    "                                  'PatientSex', \n",
    "                                  'PatientBirthDate', \n",
    "                                  'PatientAge']\n",
    "        self.dicom_remove_field = ['InstitutionalDepartmentName',\n",
    "                                   'MilitaryRank', \n",
    "                                   'StationName', \n",
    "                                   'BranchOfService', \n",
    "                                   'AdditionalPatientHistory']\n",
    "        self.dicom_encrypt_field = ['AccessionNumber', \n",
    "                                    'PatientName',\n",
    "                                    'InstitutionName', \n",
    "                                    'PatientID']\n",
    "    \n",
    "    def Encrypt_string(self, string, mapping = None):\n",
    "        if mapping is None:\n",
    "            mapping = self.mapping_string\n",
    "        m = mapping\n",
    "        \n",
    "        string = str(string)\n",
    "        string = np.array(list(string))[self.reorder[len(string)-1][1]]\n",
    "        string = ''.join([m[np.where(m[:, 0] == s)[0][0]][1] if s in m[:, 0] else s for s in string])\n",
    "        \n",
    "        return string\n",
    "    \n",
    "    def Decrypt_string(self, string, mapping = None):\n",
    "        if mapping is None:\n",
    "            mapping = self.mapping_string\n",
    "        m = mapping\n",
    "        \n",
    "        string = str(string)\n",
    "        string = np.array(list(string))[self.reorder[len(string)-1][2]]\n",
    "        string = ''.join([m[np.where(m[:, 1] == s)[0][0]][0] if s in m[:, 1] else s for s in string])\n",
    "        \n",
    "        return string\n",
    "    \n",
    "    def Encrypt_filename(self, filename, level = 1):\n",
    "        '''\n",
    "        @param: level: for a path, how many directories to be encrypted from the farest one\n",
    "        '''\n",
    "        m = self.mapping_file\n",
    "        \n",
    "        basenames = []\n",
    "        for i in range(level):\n",
    "            basenames.append(self.Encrypt_string(os.path.basename(filename).lower(), self.mapping_file))\n",
    "            filename = os.path.dirname(filename)\n",
    "        \n",
    "        return os.path.join(*([filename] + basenames[::-1]))\n",
    "    \n",
    "    def Decrypt_filename(self, filename, level = 1):\n",
    "        '''\n",
    "        @param: level: for a path, how many directories to be encrypted from the farest one\n",
    "        '''\n",
    "        m = self.mapping_file\n",
    "        \n",
    "        basenames = []\n",
    "        for i in range(level):\n",
    "            basenames.append(self.Decrypt_string(os.path.basename(filename).lower(), self.mapping_file))\n",
    "            filename = os.path.dirname(filename)\n",
    "        \n",
    "        return os.path.join(*([filename] + basenames[::-1]))\n",
    "    \n",
    "    def Encrypt_dicom(self, dcm):\n",
    "        for field in self.dicom_erase_field:\n",
    "            if field in dcm:\n",
    "                setattr(dcm, field, ' ')\n",
    "        \n",
    "        for field in self.dicom_remove_field:\n",
    "            if field in dcm:\n",
    "                delattr(dcm, field)\n",
    "        \n",
    "        for field in self.dicom_encrypt_field:\n",
    "            if field in dcm:\n",
    "                # use lower only encryption, because usually the folder will be named with mrn and acc. This will avoid potential conflict in Windows\n",
    "                string = str(getattr(dcm, field)).lower()\n",
    "                setattr(dcm, field, self.Encrypt_string(string, self.mapping_file))\n",
    "        \n",
    "        return dcm\n",
    "    \n",
    "    def Get_folder_name(self, dcm):\n",
    "        return '_'.join([dcm.PatientID, dcm.AccessionNumber])"
   ]
  },
  {
   "cell_type": "code",
   "execution_count": 7,
   "metadata": {},
   "outputs": [],
   "source": [
    "# generate two mapping charts: reorder and remapping (0-9, space and a-z. Everything is converted to lowercase)\n",
    "# this is not a strong encryption, but should be enough for deidentification purpose"
   ]
  },
  {
   "cell_type": "code",
   "execution_count": 8,
   "metadata": {},
   "outputs": [],
   "source": [
    "if __name__ == '__main__':\n",
    "    filename = 'covid'\n",
    "    np.random.seed(int.from_bytes(bytes(filename, 'utf-8'), 'little') % 2**32)\n",
    "    \n",
    "    # generate reorder chart\n",
    "    records = []\n",
    "    for i in range(255):\n",
    "        forward = np.arange(i+1)\n",
    "        np.random.shuffle(forward)\n",
    "        backward = np.argsort(forward)\n",
    "        \n",
    "        fstr = ','.join([str(k) for k in forward])\n",
    "        bstr = ','.join([str(k) for k in backward])\n",
    "        \n",
    "        records.append([i+1, fstr, bstr])\n",
    "    pd.DataFrame(records, columns=['length', 'forward', 'backward']).to_csv(filename+'_reorder.csv', index=False)\n",
    "    \n",
    "    # generate character re-mapping chart, full\n",
    "    src_chars = [chr(k) for k in list(range(48, 58)) + list(range(65,91)) + list(range(97,123))]\n",
    "    dst_chars = np.copy(src_chars)\n",
    "    np.random.shuffle(dst_chars)\n",
    "    pd.DataFrame({'source': src_chars, 'target': dst_chars}).to_csv(filename+'_mapping_string.csv', index=False)\n",
    "    \n",
    "    src_chars = [chr(k) for k in list(range(48, 58)) + list(range(97,123))]\n",
    "    dst_chars = np.copy(src_chars)\n",
    "    np.random.shuffle(dst_chars)\n",
    "    pd.DataFrame({'source': src_chars, 'target': dst_chars}).to_csv(filename+'_mapping_filename.csv', index=False)"
   ]
  },
  {
   "cell_type": "code",
   "execution_count": 9,
   "metadata": {},
   "outputs": [
    {
     "name": "stdout",
     "output_type": "stream",
     "text": [
      "Fg3If0 MICKEY\n",
      "/home/dwu/data/DZH_DATA/2018/Aneurysm/SAH-/s99ssww/i_-m95brw_3yqj2c_6i2qq0q_5uqpquw\n",
      "/home/dwu/data/DZH_DATA/2018/Aneurysm/SAH-/1225515/9272310 - ct - neuro - ctangh-3d\n"
     ]
    },
    {
     "ename": "IndexError",
     "evalue": "list index out of range",
     "output_type": "error",
     "traceback": [
      "\u001b[0;31m---------------------------------------------------------------------------\u001b[0m",
      "\u001b[0;31mIndexError\u001b[0m                                Traceback (most recent call last)",
      "\u001b[0;32m<ipython-input-9-617b4be4bec6>\u001b[0m in \u001b[0;36m<module>\u001b[0;34m\u001b[0m\n\u001b[1;32m     13\u001b[0m \u001b[0;34m\u001b[0m\u001b[0m\n\u001b[1;32m     14\u001b[0m     \u001b[0mdcm_files\u001b[0m \u001b[0;34m=\u001b[0m \u001b[0mglob\u001b[0m\u001b[0;34m.\u001b[0m\u001b[0mglob\u001b[0m\u001b[0;34m(\u001b[0m\u001b[0;34m'/home/dwu/data/DZH_DATA/2018/Aneurysm/SAH-/1225515/*/*/*.dcm'\u001b[0m\u001b[0;34m)\u001b[0m\u001b[0;34m\u001b[0m\u001b[0;34m\u001b[0m\u001b[0m\n\u001b[0;32m---> 15\u001b[0;31m     \u001b[0mimg\u001b[0m \u001b[0;34m=\u001b[0m \u001b[0mpydicom\u001b[0m\u001b[0;34m.\u001b[0m\u001b[0mdcmread\u001b[0m\u001b[0;34m(\u001b[0m\u001b[0mdcm_files\u001b[0m\u001b[0;34m[\u001b[0m\u001b[0;36m0\u001b[0m\u001b[0;34m]\u001b[0m\u001b[0;34m,\u001b[0m \u001b[0mforce\u001b[0m\u001b[0;34m=\u001b[0m\u001b[0;32mTrue\u001b[0m\u001b[0;34m)\u001b[0m\u001b[0;34m\u001b[0m\u001b[0;34m\u001b[0m\u001b[0m\n\u001b[0m\u001b[1;32m     16\u001b[0m     \u001b[0mimg_enc\u001b[0m \u001b[0;34m=\u001b[0m \u001b[0mf\u001b[0m\u001b[0;34m.\u001b[0m\u001b[0mEncrypt_dicom\u001b[0m\u001b[0;34m(\u001b[0m\u001b[0mimg\u001b[0m\u001b[0;34m)\u001b[0m\u001b[0;34m\u001b[0m\u001b[0;34m\u001b[0m\u001b[0m\n",
      "\u001b[0;31mIndexError\u001b[0m: list index out of range"
     ]
    }
   ],
   "source": [
    "if __name__ == '__main__':\n",
    "    filename = 'aneurysm'\n",
    "    f = Simple_encryptor(filename)\n",
    "    \n",
    "    s1 = f.Encrypt_string('MICKEY')\n",
    "    s2 = f.Decrypt_string(s1)\n",
    "    print (s1, s2)\n",
    "    \n",
    "    s1 = f.Encrypt_filename('/home/dwu/data/DZH_DATA/2018/Aneurysm/SAH-/1225515/9272310 - CT - NEURO - CTANGH-3D', 2)\n",
    "    s2 = f.Decrypt_filename(s1, 2)\n",
    "    print (s1)\n",
    "    print (s2)\n",
    "    \n",
    "    dcm_files = glob.glob('/home/dwu/data/DZH_DATA/2018/Aneurysm/SAH-/1225515/*/*/*.dcm')\n",
    "    img = pydicom.dcmread(dcm_files[0], force=True)\n",
    "    img_enc = f.Encrypt_dicom(img)"
   ]
  },
  {
   "cell_type": "code",
   "execution_count": 155,
   "metadata": {},
   "outputs": [],
   "source": [
    "if __name__ == '__main__':\n",
    "    import subprocess\n",
    "    subprocess.check_call(['jupyter', 'nbconvert', '--to', 'script', 'encrpytion'])"
   ]
  },
  {
   "cell_type": "code",
   "execution_count": null,
   "metadata": {},
   "outputs": [],
   "source": []
  }
 ],
 "metadata": {
  "kernelspec": {
   "display_name": "Python 3",
   "language": "python",
   "name": "python3"
  },
  "language_info": {
   "codemirror_mode": {
    "name": "ipython",
    "version": 3
   },
   "file_extension": ".py",
   "mimetype": "text/x-python",
   "name": "python",
   "nbconvert_exporter": "python",
   "pygments_lexer": "ipython3",
   "version": "3.7.7"
  }
 },
 "nbformat": 4,
 "nbformat_minor": 4
}
