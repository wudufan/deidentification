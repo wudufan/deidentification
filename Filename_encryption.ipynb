{
 "cells": [
  {
   "cell_type": "code",
   "execution_count": 1,
   "metadata": {},
   "outputs": [],
   "source": [
    "# encrypt the MRNs in the filenames of intermediate results (npy, png, etc)"
   ]
  },
  {
   "cell_type": "code",
   "execution_count": 2,
   "metadata": {},
   "outputs": [],
   "source": [
    "import glob\n",
    "import os\n",
    "import encrpytion\n",
    "import shutil\n",
    "import sys\n",
    "from pathlib import Path"
   ]
  },
  {
   "cell_type": "code",
   "execution_count": 18,
   "metadata": {},
   "outputs": [
    {
     "name": "stdout",
     "output_type": "stream",
     "text": [
      "input_dir = /raid/COVID-19/CT-severity/processed/mgh-pos/for_review/png/\n",
      "output_dir = /raid/COVID-19/CT-severity/processed/mgh-pos/anonymized/png/\n"
     ]
    }
   ],
   "source": [
    "import argparse\n",
    "parser = argparse.ArgumentParser()\n",
    "parser.add_argument('--input_dir', type=str, default='/home/dwu/data/DZH_DATA/check/')\n",
    "parser.add_argument('--output_dir', type=str, default='/home/dwu/data/Aneurysm/check/')\n",
    "\n",
    "if sys.argv[0] != 'Filename_encryption.py':\n",
    "    args = parser.parse_args(['--input_dir', '/raid/COVID-19/CT-severity/processed/mgh-pos/for_review/nii_nrrd/', \n",
    "                              '--output_dir', '/raid/COVID-19/CT-severity/processed/mgh-pos/anonymized/nii_nrrd/'])\n",
    "else:\n",
    "    args = parser.parse_args()\n",
    "\n",
    "for k in args.__dict__:\n",
    "    print (k, '=', args.__dict__[k])"
   ]
  },
  {
   "cell_type": "code",
   "execution_count": 19,
   "metadata": {},
   "outputs": [],
   "source": [
    "encrpytor = encrpytion.Simple_encryptor('covid')"
   ]
  },
  {
   "cell_type": "code",
   "execution_count": 20,
   "metadata": {},
   "outputs": [],
   "source": [
    "if not os.path.exists(args.output_dir):\n",
    "    os.makedirs(args.output_dir)"
   ]
  },
  {
   "cell_type": "code",
   "execution_count": 21,
   "metadata": {},
   "outputs": [
    {
     "name": "stdout",
     "output_type": "stream",
     "text": [
      "23\n",
      "0,"
     ]
    },
    {
     "ename": "IsADirectoryError",
     "evalue": "[Errno 21] Is a directory: '/raid/COVID-19/CT-severity/processed/mgh-pos/for_review/png/02619963_E15389065_3'",
     "output_type": "error",
     "traceback": [
      "\u001b[0;31m---------------------------------------------------------------------------\u001b[0m",
      "\u001b[0;31mIsADirectoryError\u001b[0m                         Traceback (most recent call last)",
      "\u001b[0;32m<ipython-input-21-b805c204f6d6>\u001b[0m in \u001b[0;36m<module>\u001b[0;34m\u001b[0m\n\u001b[1;32m     11\u001b[0m     \u001b[0mdstname\u001b[0m \u001b[0;34m=\u001b[0m \u001b[0mos\u001b[0m\u001b[0;34m.\u001b[0m\u001b[0mpath\u001b[0m\u001b[0;34m.\u001b[0m\u001b[0mjoin\u001b[0m\u001b[0;34m(\u001b[0m\u001b[0margs\u001b[0m\u001b[0;34m.\u001b[0m\u001b[0moutput_dir\u001b[0m\u001b[0;34m,\u001b[0m \u001b[0;34m'_'\u001b[0m\u001b[0;34m.\u001b[0m\u001b[0mjoin\u001b[0m\u001b[0;34m(\u001b[0m\u001b[0;34m[\u001b[0m\u001b[0mmrn_enc\u001b[0m\u001b[0;34m,\u001b[0m \u001b[0macc_enc\u001b[0m\u001b[0;34m]\u001b[0m \u001b[0;34m+\u001b[0m \u001b[0mtokens\u001b[0m\u001b[0;34m[\u001b[0m\u001b[0;36m2\u001b[0m\u001b[0;34m:\u001b[0m\u001b[0;34m]\u001b[0m\u001b[0;34m)\u001b[0m \u001b[0;34m+\u001b[0m \u001b[0;34m'.'\u001b[0m \u001b[0;34m+\u001b[0m \u001b[0mname\u001b[0m\u001b[0;34m.\u001b[0m\u001b[0msplit\u001b[0m\u001b[0;34m(\u001b[0m\u001b[0;34m'.'\u001b[0m\u001b[0;34m)\u001b[0m\u001b[0;34m[\u001b[0m\u001b[0;34m-\u001b[0m\u001b[0;36m1\u001b[0m\u001b[0;34m]\u001b[0m\u001b[0;34m)\u001b[0m\u001b[0;34m\u001b[0m\u001b[0;34m\u001b[0m\u001b[0m\n\u001b[1;32m     12\u001b[0m \u001b[0;34m\u001b[0m\u001b[0m\n\u001b[0;32m---> 13\u001b[0;31m     \u001b[0mshutil\u001b[0m\u001b[0;34m.\u001b[0m\u001b[0mcopyfile\u001b[0m\u001b[0;34m(\u001b[0m\u001b[0mfilename\u001b[0m\u001b[0;34m,\u001b[0m \u001b[0mdstname\u001b[0m\u001b[0;34m)\u001b[0m\u001b[0;34m\u001b[0m\u001b[0;34m\u001b[0m\u001b[0m\n\u001b[0m",
      "\u001b[0;32m~/miniconda3/envs/tf-gpu/lib/python3.7/shutil.py\u001b[0m in \u001b[0;36mcopyfile\u001b[0;34m(src, dst, follow_symlinks)\u001b[0m\n\u001b[1;32m    118\u001b[0m         \u001b[0mos\u001b[0m\u001b[0;34m.\u001b[0m\u001b[0msymlink\u001b[0m\u001b[0;34m(\u001b[0m\u001b[0mos\u001b[0m\u001b[0;34m.\u001b[0m\u001b[0mreadlink\u001b[0m\u001b[0;34m(\u001b[0m\u001b[0msrc\u001b[0m\u001b[0;34m)\u001b[0m\u001b[0;34m,\u001b[0m \u001b[0mdst\u001b[0m\u001b[0;34m)\u001b[0m\u001b[0;34m\u001b[0m\u001b[0;34m\u001b[0m\u001b[0m\n\u001b[1;32m    119\u001b[0m     \u001b[0;32melse\u001b[0m\u001b[0;34m:\u001b[0m\u001b[0;34m\u001b[0m\u001b[0;34m\u001b[0m\u001b[0m\n\u001b[0;32m--> 120\u001b[0;31m         \u001b[0;32mwith\u001b[0m \u001b[0mopen\u001b[0m\u001b[0;34m(\u001b[0m\u001b[0msrc\u001b[0m\u001b[0;34m,\u001b[0m \u001b[0;34m'rb'\u001b[0m\u001b[0;34m)\u001b[0m \u001b[0;32mas\u001b[0m \u001b[0mfsrc\u001b[0m\u001b[0;34m:\u001b[0m\u001b[0;34m\u001b[0m\u001b[0;34m\u001b[0m\u001b[0m\n\u001b[0m\u001b[1;32m    121\u001b[0m             \u001b[0;32mwith\u001b[0m \u001b[0mopen\u001b[0m\u001b[0;34m(\u001b[0m\u001b[0mdst\u001b[0m\u001b[0;34m,\u001b[0m \u001b[0;34m'wb'\u001b[0m\u001b[0;34m)\u001b[0m \u001b[0;32mas\u001b[0m \u001b[0mfdst\u001b[0m\u001b[0;34m:\u001b[0m\u001b[0;34m\u001b[0m\u001b[0;34m\u001b[0m\u001b[0m\n\u001b[1;32m    122\u001b[0m                 \u001b[0mcopyfileobj\u001b[0m\u001b[0;34m(\u001b[0m\u001b[0mfsrc\u001b[0m\u001b[0;34m,\u001b[0m \u001b[0mfdst\u001b[0m\u001b[0;34m)\u001b[0m\u001b[0;34m\u001b[0m\u001b[0;34m\u001b[0m\u001b[0m\n",
      "\u001b[0;31mIsADirectoryError\u001b[0m: [Errno 21] Is a directory: '/raid/COVID-19/CT-severity/processed/mgh-pos/for_review/png/02619963_E15389065_3'"
     ]
    }
   ],
   "source": [
    "# split by '_' and encrypt the first part\n",
    "filenames = glob.glob(os.path.join(args.input_dir, '*'))\n",
    "print (len(filenames))\n",
    "for i, filename in enumerate(filenames):\n",
    "    print (i, end=',', flush=True)\n",
    "    \n",
    "    name = os.path.basename(filename)\n",
    "    tokens = name.split('.')[0].split('_')\n",
    "    mrn_enc = encrpytor.Encrypt_string(tokens[0])\n",
    "    acc_enc = encrpytor.Encrypt_string(tokens[1])\n",
    "    dstname = os.path.join(args.output_dir, '_'.join([mrn_enc, acc_enc] + tokens[2:]) + '.' + name.split('.')[-1])\n",
    "    \n",
    "    shutil.copyfile(filename, dstname)"
   ]
  },
  {
   "cell_type": "code",
   "execution_count": 17,
   "metadata": {},
   "outputs": [
    {
     "name": "stdout",
     "output_type": "stream",
     "text": [
      "02619963_E15389065_3.nii 02619963_E15389065_3.nii\n",
      "0631027_E15457491_4.nii 0631027_E15457491_4.nii\n",
      "07079569_E15489220_9.nii 07079569_E15489220_9.nii\n",
      "08077661_E15479449_9.nii 08077661_E15479449_9.nii\n",
      "0795617_E14877702_302.nii 0795617_E14877702_302.nii\n",
      "2865224_E15483651_3.nii 2865224_E15483651_3.nii\n",
      "2530349_E15470724_3.nii 2530349_E15470724_3.nii\n",
      "33753526_E15417020_8.nii 33753526_E15417020_8.nii\n",
      "10932430_E15476328_3.nii 10932430_E15476328_3.nii\n",
      "11316840_E15470546_3.nii 11316840_E15470546_3.nii\n",
      "11390592_E15476611_3.nii 11390592_E15476611_3.nii\n",
      "4041884_E15430678_4.nii 4041884_E15430678_4.nii\n",
      "41940826_E15490349_5.nii 41940826_E15490349_5.nii\n",
      "6026796_E15477693_14.nii 6026796_E15477693_14.nii\n",
      "2023465_E15444202_3.nii 2023465_E15444202_3.nii\n",
      "2166297_E14863542_302.nii 2166297_E14863542_302.nii\n",
      "2212646_E13737509_2.nii 2212646_E13737509_2.nii\n",
      "2219908_E13883991_2.nii 2219908_E13883991_2.nii\n",
      "2396963_E15454805_4.nii 2396963_E15454805_4.nii\n",
      "2444333_E13649450_302.nii 2444333_E13649450_302.nii\n",
      "1795989_E15483371_2.nii 1795989_E15483371_2.nii\n",
      "1913996_E15410556_2.nii 1913996_E15410556_2.nii\n",
      "11390854_E15482170_2.nii 11390854_E15482170_2.nii\n",
      "02619963_E15389065_3.nrrd 02619963_E15389065_3.nrrd\n",
      "0631027_E15457491_4.nrrd 0631027_E15457491_4.nrrd\n",
      "07079569_E15489220_9.nrrd 07079569_E15489220_9.nrrd\n",
      "08077661_E15479449_9.nrrd 08077661_E15479449_9.nrrd\n",
      "0795617_E14877702_302.nrrd 0795617_E14877702_302.nrrd\n",
      "2865224_E15483651_3.nrrd 2865224_E15483651_3.nrrd\n",
      "2530349_E15470724_3.nrrd 2530349_E15470724_3.nrrd\n",
      "33753526_E15417020_8.nrrd 33753526_E15417020_8.nrrd\n",
      "10932430_E15476328_3.nrrd 10932430_E15476328_3.nrrd\n",
      "11316840_E15470546_3.nrrd 11316840_E15470546_3.nrrd\n",
      "11390592_E15476611_3.nrrd 11390592_E15476611_3.nrrd\n",
      "4041884_E15430678_4.nrrd 4041884_E15430678_4.nrrd\n",
      "41940826_E15490349_5.nrrd 41940826_E15490349_5.nrrd\n",
      "6026796_E15477693_14.nrrd 6026796_E15477693_14.nrrd\n",
      "2023465_E15444202_3.nrrd 2023465_E15444202_3.nrrd\n",
      "2166297_E14863542_302.nrrd 2166297_E14863542_302.nrrd\n",
      "2212646_E13737509_2.nrrd 2212646_E13737509_2.nrrd\n",
      "2219908_E13883991_2.nrrd 2219908_E13883991_2.nrrd\n",
      "2396963_E15454805_4.nrrd 2396963_E15454805_4.nrrd\n",
      "2444333_E13649450_302.nrrd 2444333_E13649450_302.nrrd\n",
      "1795989_E15483371_2.nrrd 1795989_E15483371_2.nrrd\n",
      "1913996_E15410556_2.nrrd 1913996_E15410556_2.nrrd\n",
      "11390854_E15482170_2.nrrd 11390854_E15482170_2.nrrd\n"
     ]
    }
   ],
   "source": [
    "# decrpyt\n",
    "original_filenames = glob.glob(os.path.join(args.input_dir, '*'))\n",
    "filenames = glob.glob(os.path.join(args.output_dir, '*'))\n",
    "for i, filename in enumerate(filenames):\n",
    "    name = os.path.basename(filename)\n",
    "    tokens = name.split('.')[0].split('_')\n",
    "    mrn_dec = encrpytor.Decrypt_string(tokens[0])\n",
    "    acc_dec = encrpytor.Decrypt_string(tokens[1])\n",
    "    \n",
    "    dstname = os.path.join(args.output_dir, '_'.join([mrn_dec, acc_dec] + tokens[2:]) + '.' + name.split('.')[-1])"
   ]
  },
  {
   "cell_type": "code",
   "execution_count": null,
   "metadata": {},
   "outputs": [],
   "source": []
  }
 ],
 "metadata": {
  "kernelspec": {
   "display_name": "Python 3",
   "language": "python",
   "name": "python3"
  },
  "language_info": {
   "codemirror_mode": {
    "name": "ipython",
    "version": 3
   },
   "file_extension": ".py",
   "mimetype": "text/x-python",
   "name": "python",
   "nbconvert_exporter": "python",
   "pygments_lexer": "ipython3",
   "version": "3.7.7"
  }
 },
 "nbformat": 4,
 "nbformat_minor": 4
}
