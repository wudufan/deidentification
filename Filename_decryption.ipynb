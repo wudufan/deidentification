{
 "cells": [
  {
   "cell_type": "code",
   "execution_count": 1,
   "metadata": {},
   "outputs": [],
   "source": [
    "# decrypt the MRNs in the filenames of intermediate results (npy, png, etc)"
   ]
  },
  {
   "cell_type": "code",
   "execution_count": 3,
   "metadata": {},
   "outputs": [],
   "source": [
    "import glob\n",
    "import os\n",
    "import encrpytion\n",
    "import shutil\n",
    "import sys\n",
    "from pathlib import Path"
   ]
  },
  {
   "cell_type": "code",
   "execution_count": 33,
   "metadata": {},
   "outputs": [
    {
     "name": "stdout",
     "output_type": "stream",
     "text": [
      "4561217\n"
     ]
    }
   ],
   "source": [
    "encrpytor = encrpytion.Simple_encryptor('aneurysm')\n",
    "mrn = encrpytor.Decrypt_filename('99awpts')\n",
    "print (mrn)"
   ]
  },
  {
   "cell_type": "code",
   "execution_count": 26,
   "metadata": {},
   "outputs": [
    {
     "name": "stdout",
     "output_type": "stream",
     "text": [
      "[[  0.9887709   81.7771     324.65436    252.99043      8.865082  ]\n",
      " [  0.9506526   77.76407    306.20056    272.31146      9.624776  ]\n",
      " [  0.9013345  112.63165    221.0957     260.55853      9.204083  ]\n",
      " [  0.90011746 138.23831    236.37125    289.98553      9.061326  ]\n",
      " [  0.85303056 173.9991     185.69417    208.27        11.312589  ]\n",
      " [  0.73637    108.731255   322.11505    364.49078     10.573453  ]\n",
      " [  0.52116895  89.79904    262.52032    253.49605      9.718578  ]]\n"
     ]
    }
   ],
   "source": [
    "import numpy as np\n",
    "pbb = np.load('../trainData/aneurysm/debug/data/bbox/%s_pbb.npy'%mrn)\n",
    "print (pbb)"
   ]
  },
  {
   "cell_type": "code",
   "execution_count": 27,
   "metadata": {},
   "outputs": [],
   "source": [
    "import matplotlib.pyplot as plt"
   ]
  },
  {
   "cell_type": "code",
   "execution_count": 30,
   "metadata": {},
   "outputs": [
    {
     "name": "stdout",
     "output_type": "stream",
     "text": [
      "../trainData/aneurysm/debug/data/fpr_cubes/4968016_252_324_81_9_Label_20x20x6.npy\n"
     ]
    }
   ],
   "source": [
    "patch_filenames = glob.glob('../trainData/aneurysm/debug/data/fpr_cubes/%s_*.npy'%mrn)\n",
    "i = 0\n",
    "print (patch_filenames[i])\n",
    "patch = np.load(patch_filenames[i])"
   ]
  },
  {
   "cell_type": "code",
   "execution_count": 32,
   "metadata": {},
   "outputs": [
    {
     "data": {
      "text/plain": [
       "<matplotlib.image.AxesImage at 0x2aaae24882b0>"
      ]
     },
     "execution_count": 32,
     "metadata": {},
     "output_type": "execute_result"
    },
    {
     "data": {
      "image/png": "[encoded data removed]",
      "text/plain": [
       "<Figure size 432x288 with 1 Axes>"
      ]
     },
     "metadata": {
      "needs_background": "light"
     },
     "output_type": "display_data"
    }
   ],
   "source": [
    "plt.imshow(patch[...,3], 'gray', vmin=0, vmax=1)"
   ]
  },
  {
   "cell_type": "code",
   "execution_count": null,
   "metadata": {},
   "outputs": [],
   "source": []
  }
 ],
 "metadata": {
  "kernelspec": {
   "display_name": "Python 3",
   "language": "python",
   "name": "python3"
  },
  "language_info": {
   "codemirror_mode": {
    "name": "ipython",
    "version": 3
   },
   "file_extension": ".py",
   "mimetype": "text/x-python",
   "name": "python",
   "nbconvert_exporter": "python",
   "pygments_lexer": "ipython3",
   "version": "3.6.9"
  }
 },
 "nbformat": 4,
 "nbformat_minor": 4
}
